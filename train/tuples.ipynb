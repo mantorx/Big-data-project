{
 "cells": [
  {
   "cell_type": "code",
   "execution_count": null,
   "metadata": {},
   "outputs": [
    {
     "ename": "IndexError",
     "evalue": "list index out of range",
     "output_type": "error",
     "traceback": [
      "\u001b[1;31m---------------------------------------------------------------------------\u001b[0m",
      "\u001b[1;31mIndexError\u001b[0m                                Traceback (most recent call last)",
      "Cell \u001b[1;32mIn[12], line 7\u001b[0m\n\u001b[0;32m      3\u001b[0m list_of_friends \u001b[38;5;241m=\u001b[39m friends\u001b[38;5;241m.\u001b[39msplit(\u001b[38;5;124m\"\u001b[39m\u001b[38;5;124m,\u001b[39m\u001b[38;5;124m\"\u001b[39m)\n\u001b[0;32m      4\u001b[0m list_of_amounnts\u001b[38;5;241m=\u001b[39m amounts\u001b[38;5;241m.\u001b[39msplit(\u001b[38;5;124m\"\u001b[39m\u001b[38;5;124m,\u001b[39m\u001b[38;5;124m\"\u001b[39m)\n\u001b[0;32m      5\u001b[0m friends \u001b[38;5;241m=\u001b[39m [\n\u001b[0;32m      6\u001b[0m     (list_of_friends[\u001b[38;5;241m0\u001b[39m], list_of_amounnts[\u001b[38;5;241m0\u001b[39m]),\n\u001b[1;32m----> 7\u001b[0m     (list_of_friends[\u001b[38;5;241m1\u001b[39m], list_of_amounnts[\u001b[38;5;241m1\u001b[39m]),\n\u001b[0;32m      8\u001b[0m     (list_of_friends[\u001b[38;5;241m2\u001b[39m], list_of_amounnts[\u001b[38;5;241m2\u001b[39m]),\n\u001b[0;32m      9\u001b[0m            ]\n\u001b[0;32m     10\u001b[0m \u001b[38;5;28mprint\u001b[39m(friends)\n\u001b[0;32m     11\u001b[0m friends[\u001b[38;5;241m0\u001b[39m]\u001b[38;5;241m=\u001b[39m(\u001b[38;5;124m\"\u001b[39m\u001b[38;5;124msteve\u001b[39m\u001b[38;5;124m\"\u001b[39m,\u001b[38;5;241m400\u001b[39m,)\n",
      "\u001b[1;31mIndexError\u001b[0m: list index out of range"
     ]
    }
   ],
   "source": [
    "friends= input (\"What are the names of your friends ?\")\n",
    "amounts = input (\"How much each of your friends spent ?\")\n",
    "list_of_friends = friends.split(\",\")\n",
    "list_of_amounnts= amounts.split(\",\")\n",
    "friends = [\n",
    "    (list_of_friends[0], list_of_amounnts[0]),\n",
    "    (list_of_friends[1], list_of_amounnts[1]),\n",
    "    (list_of_friends[2], list_of_amounnts[2]),]\n",
    "\n"
   ]
  }
 ],
 "metadata": {
  "kernelspec": {
   "display_name": "base",
   "language": "python",
   "name": "python3"
  },
  "language_info": {
   "codemirror_mode": {
    "name": "ipython",
    "version": 3
   },
   "file_extension": ".py",
   "mimetype": "text/x-python",
   "name": "python",
   "nbconvert_exporter": "python",
   "pygments_lexer": "ipython3",
   "version": "3.12.7"
  }
 },
 "nbformat": 4,
 "nbformat_minor": 2
}
