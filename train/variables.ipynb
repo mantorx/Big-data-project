{
 "cells": [
  {
   "cell_type": "code",
   "execution_count": 20,
   "metadata": {},
   "outputs": [
    {
     "name": "stdout",
     "output_type": "stream",
     "text": [
      "arthur\n"
     ]
    }
   ],
   "source": [
    "name=input(\"what's your name ?\")\n",
    "print(name)"
   ]
  },
  {
   "cell_type": "code",
   "execution_count": 40,
   "metadata": {},
   "outputs": [
    {
     "name": "stdout",
     "output_type": "stream",
     "text": [
      "5 1000\n",
      "1000\n"
     ]
    }
   ],
   "source": [
    "total_number_of_friends,total_amount_spent = input(\"How many friends traveled with you ?\"), input(\"How much dis you spent ?\")\n",
    "print(total_number_of_friends,total_amount_spent)\n",
    "print ( total_amount_spent)"
   ]
  },
  {
   "cell_type": "code",
   "execution_count": 23,
   "metadata": {},
   "outputs": [
    {
     "name": "stdout",
     "output_type": "stream",
     "text": [
      "total_number_of_friends: 5\n",
      "total_amount_spent:1000\n"
     ]
    }
   ],
   "source": [
    "print(\"total_number_of_friends: {}\".format(total_number_of_friends))\n",
    "print(\"total_amount_spent:{}\".format(total_amount_spent))"
   ]
  },
  {
   "cell_type": "code",
   "execution_count": 26,
   "metadata": {},
   "outputs": [
    {
     "name": "stdout",
     "output_type": "stream",
     "text": [
      "15\n",
      "5\n",
      "20\n",
      "5.0\n",
      "100\n"
     ]
    }
   ],
   "source": [
    "a = 10 \n",
    "\n",
    "\n",
    "print (a + 5)\n",
    "print (a - 5)\n",
    "print (a * 2)\n",
    "print (a / 2)\n",
    "print (a **2)"
   ]
  },
  {
   "cell_type": "code",
   "execution_count": 27,
   "metadata": {},
   "outputs": [
    {
     "name": "stdout",
     "output_type": "stream",
     "text": [
      "42\n",
      "0.3125\n",
      "100000000000000000000000000000000\n"
     ]
    }
   ],
   "source": [
    "b = 32\n",
    "print(a + b)\n",
    "print(a / b)\n",
    "print(a **b)\n"
   ]
  },
  {
   "cell_type": "code",
   "execution_count": 28,
   "metadata": {},
   "outputs": [
    {
     "name": "stdout",
     "output_type": "stream",
     "text": [
      "320\n"
     ]
    }
   ],
   "source": [
    "c =     a * b \n",
    "print (c)"
   ]
  },
  {
   "cell_type": "code",
   "execution_count": 29,
   "metadata": {},
   "outputs": [
    {
     "data": {
      "text/plain": [
       "str"
      ]
     },
     "execution_count": 29,
     "metadata": {},
     "output_type": "execute_result"
    }
   ],
   "source": [
    "type(total_amount_spent)"
   ]
  },
  {
   "cell_type": "code",
   "execution_count": null,
   "metadata": {},
   "outputs": [
    {
     "name": "stdout",
     "output_type": "stream",
     "text": [
      "5000\n",
      "each person should pay : 200.0 €\n"
     ]
    }
   ],
   "source": [
    "\n",
    "total_amount_spent = int(total_amount_spent)\n",
    "total_number_of_friends = int( total_number_of_friends )\n",
    "print ( total_number_of_friends * total_amount_spent)\n",
    "split_amount = total_amount_spent / total_number_of_friends \n",
    "print (\"each person should pay : {} €\".format(split_amount))\n",
    "\n"
   ]
  },
  {
   "cell_type": "code",
   "execution_count": 43,
   "metadata": {},
   "outputs": [
    {
     "name": "stdout",
     "output_type": "stream",
     "text": [
      " d est de type: <class 'float'>\n"
     ]
    }
   ],
   "source": [
    "print(f\" d est de type: {type(a/b+a)}\")"
   ]
  }
 ],
 "metadata": {
  "kernelspec": {
   "display_name": "base",
   "language": "python",
   "name": "python3"
  },
  "language_info": {
   "codemirror_mode": {
    "name": "ipython",
    "version": 3
   },
   "file_extension": ".py",
   "mimetype": "text/x-python",
   "name": "python",
   "nbconvert_exporter": "python",
   "pygments_lexer": "ipython3",
   "version": "3.12.7"
  }
 },
 "nbformat": 4,
 "nbformat_minor": 2
}
