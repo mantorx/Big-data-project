{
 "cells": [
  {
   "cell_type": "code",
   "execution_count": 2,
   "metadata": {},
   "outputs": [
    {
     "name": "stdout",
     "output_type": "stream",
     "text": [
      "{'name': 'antoine', 'amount': 110}\n"
     ]
    },
    {
     "data": {
      "text/plain": [
       "'antoine'"
      ]
     },
     "execution_count": 2,
     "metadata": {},
     "output_type": "execute_result"
    }
   ],
   "source": [
    "friend = {\"name\":\"antoine\", \"amount\":110}\n",
    "print ( friend)\n",
    "friend [\"name\"]\n"
   ]
  },
  {
   "cell_type": "code",
   "execution_count": 19,
   "metadata": {},
   "outputs": [
    {
     "name": "stdout",
     "output_type": "stream",
     "text": [
      "{'name': 'antoine', 'amount': 110, 'last_name': 'Bobo'}\n"
     ]
    }
   ],
   "source": [
    "friend[\"last_name\"] = \"Bobo\"\n",
    "print (friend)\n"
   ]
  },
  {
   "cell_type": "code",
   "execution_count": 21,
   "metadata": {},
   "outputs": [
    {
     "name": "stdout",
     "output_type": "stream",
     "text": [
      "{'name': 'antoine', 'amount': 110, 'last_name': 'Bobo'}\n",
      "{'name': 'antoine', 'amount': 110}\n",
      "Bobo\n"
     ]
    }
   ],
   "source": [
    "print(friend)\n",
    "last_name =friend.pop(\"last_name\")\n",
    "print(friend)\n",
    "print(last_name)"
   ]
  },
  {
   "cell_type": "code",
   "execution_count": 24,
   "metadata": {},
   "outputs": [
    {
     "name": "stdout",
     "output_type": "stream",
     "text": [
      "last_name= Bobo\n"
     ]
    }
   ],
   "source": [
    "print(f\"last_name= {last_name}\")"
   ]
  },
  {
   "cell_type": "code",
   "execution_count": null,
   "metadata": {},
   "outputs": [
    {
     "name": "stdout",
     "output_type": "stream",
     "text": [
      "[{'Name': 'arthur', 'amount': '100'}, {'Name': 'julia', 'amount': '250'}, {'Name': 'marina', 'amount': '500'}]\n"
     ]
    }
   ],
   "source": [
    "friends= input (\"What are the names of your friends ?\")\n",
    "amounts = input (\"How much each of your friends spent ?\")\n",
    "list_of_friends = friends.split(\",\")\n",
    "list_of_amounnts= amounts.split(\",\")\n",
    "friends = [\n",
    "    {\"Name\":list_of_friends[0], \"amount\":list_of_amounnts[0]},\n",
    "    {\"Name\":list_of_friends[1], \"amount\":list_of_amounnts[1]},\n",
    "    {\"Name\":list_of_friends[2], \"amount\":list_of_amounnts[2]},\n",
    "]\n",
    "print(friends)"
   ]
  },
  {
   "cell_type": "code",
   "execution_count": 34,
   "metadata": {},
   "outputs": [
    {
     "data": {
      "text/plain": [
       "{'Name': 'marina', 'amount': '500'}"
      ]
     },
     "execution_count": 34,
     "metadata": {},
     "output_type": "execute_result"
    }
   ],
   "source": [
    "friends[0]\n",
    "friends[1]\n",
    "friends[2]\n"
   ]
  },
  {
   "cell_type": "code",
   "execution_count": 3,
   "metadata": {},
   "outputs": [
    {
     "name": "stdout",
     "output_type": "stream",
     "text": [
      "{'movie_title': 'star wars episode IV', 'year': 1977, 'director': 'Georges Lucas'}\n"
     ]
    }
   ],
   "source": [
    "my_dict = {\"movie_title\":\"star wars episode IV\" , \"year\":1977, \"director\":\"Georges Lucas\"}\n",
    "print (my_dict)"
   ]
  }
 ],
 "metadata": {
  "kernelspec": {
   "display_name": "base",
   "language": "python",
   "name": "python3"
  },
  "language_info": {
   "codemirror_mode": {
    "name": "ipython",
    "version": 3
   },
   "file_extension": ".py",
   "mimetype": "text/x-python",
   "name": "python",
   "nbconvert_exporter": "python",
   "pygments_lexer": "ipython3",
   "version": "3.12.7"
  }
 },
 "nbformat": 4,
 "nbformat_minor": 2
}
