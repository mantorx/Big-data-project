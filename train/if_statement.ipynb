{
 "cells": [
  {
   "cell_type": "code",
   "execution_count": 4,
   "metadata": {},
   "outputs": [
    {
     "name": "stdout",
     "output_type": "stream",
     "text": [
      " a is greater than b\n"
     ]
    }
   ],
   "source": [
    "a = 10\n",
    "b = 4\n",
    "\n",
    "if  a==b:\n",
    "    print (\"a is equal to b\")\n",
    "elif a > b:\n",
    "    print (\" a is greater than b\")\n",
    "else: \n",
    "    print (\"b is greater than a \")"
   ]
  }
 ],
 "metadata": {
  "kernelspec": {
   "display_name": "base",
   "language": "python",
   "name": "python3"
  },
  "language_info": {
   "codemirror_mode": {
    "name": "ipython",
    "version": 3
   },
   "file_extension": ".py",
   "mimetype": "text/x-python",
   "name": "python",
   "nbconvert_exporter": "python",
   "pygments_lexer": "ipython3",
   "version": "3.12.7"
  }
 },
 "nbformat": 4,
 "nbformat_minor": 2
}
