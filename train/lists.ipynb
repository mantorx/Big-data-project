{
 "cells": [
  {
   "cell_type": "code",
   "execution_count": 13,
   "metadata": {},
   "outputs": [
    {
     "name": "stdout",
     "output_type": "stream",
     "text": [
      "['antoine', 'michèle', 'william', 'julia', 'Arthur']\n",
      "['antoine', 'michèle', 'Alex', 'william', 'julia', 'Arthur']\n"
     ]
    }
   ],
   "source": [
    "names =[\"antoine\", \"michèle\" , \"william\", \"julia\" ]\n",
    "names[2]\n",
    "names.append(\"Arthur\")\n",
    "\n",
    "print(names)\n",
    "names.insert(2,\"Alex\")\n",
    "print ( names)\n",
    "\n"
   ]
  },
  {
   "cell_type": "code",
   "execution_count": 14,
   "metadata": {},
   "outputs": [],
   "source": [
    "names[4] = \"Will\""
   ]
  },
  {
   "cell_type": "code",
   "execution_count": 22,
   "metadata": {},
   "outputs": [],
   "source": [
    "list_of_friends= input(\"Enter the names of all the participants (seperate by a comma) :\")"
   ]
  },
  {
   "cell_type": "code",
   "execution_count": 23,
   "metadata": {},
   "outputs": [
    {
     "name": "stdout",
     "output_type": "stream",
     "text": [
      "arthur, gérard, mathieu, simone, allison \n"
     ]
    }
   ],
   "source": [
    "print(list_of_friends\n",
    "      )"
   ]
  },
  {
   "cell_type": "code",
   "execution_count": null,
   "metadata": {},
   "outputs": [],
   "source": []
  },
  {
   "cell_type": "code",
   "execution_count": null,
   "metadata": {},
   "outputs": [
    {
     "name": "stdout",
     "output_type": "stream",
     "text": [
      "demo antoine\n",
      "michèle augustin\n",
      "william Saurain\n",
      "Python julia\n",
      "Bernard Arthur\n"
     ]
    }
   ],
   "source": []
  }
 ],
 "metadata": {
  "kernelspec": {
   "display_name": "base",
   "language": "python",
   "name": "python3"
  },
  "language_info": {
   "codemirror_mode": {
    "name": "ipython",
    "version": 3
   },
   "file_extension": ".py",
   "mimetype": "text/x-python",
   "name": "python",
   "nbconvert_exporter": "python",
   "pygments_lexer": "ipython3",
   "version": "3.12.7"
  }
 },
 "nbformat": 4,
 "nbformat_minor": 2
}
