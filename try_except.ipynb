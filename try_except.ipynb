{
 "cells": [
  {
   "cell_type": "code",
   "execution_count": 1,
   "metadata": {},
   "outputs": [
    {
     "name": "stdout",
     "output_type": "stream",
     "text": [
      "cant add these two objects\n"
     ]
    }
   ],
   "source": [
    "a= 10\n",
    "b=\"12\"\n",
    "\n",
    "try:\n",
    "    print(a+b)\n",
    "except:\n",
    "    print(\"cant add these two objects\")"
   ]
  },
  {
   "cell_type": "code",
   "execution_count": 8,
   "metadata": {},
   "outputs": [
    {
     "name": "stdout",
     "output_type": "stream",
     "text": [
      "cannot divide these two objects\n"
     ]
    }
   ],
   "source": [
    "a=10\n",
    "b=0\n",
    "\n",
    "try:\n",
    "    print(a/b)\n",
    "except:\n",
    "    print (\"cannot divide these two objects\")"
   ]
  },
  {
   "cell_type": "code",
   "execution_count": null,
   "metadata": {},
   "outputs": [],
   "source": []
  }
 ],
 "metadata": {
  "kernelspec": {
   "display_name": "base",
   "language": "python",
   "name": "python3"
  },
  "language_info": {
   "codemirror_mode": {
    "name": "ipython",
    "version": 3
   },
   "file_extension": ".py",
   "mimetype": "text/x-python",
   "name": "python",
   "nbconvert_exporter": "python",
   "pygments_lexer": "ipython3",
   "version": "3.12.7"
  }
 },
 "nbformat": 4,
 "nbformat_minor": 2
}
