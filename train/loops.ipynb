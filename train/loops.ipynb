{
 "cells": [
  {
   "cell_type": "code",
   "execution_count": 2,
   "metadata": {},
   "outputs": [
    {
     "name": "stdout",
     "output_type": "stream",
     "text": [
      "['hello', 'world', 'from', 'jedha']\n"
     ]
    }
   ],
   "source": [
    "items = [\"hello\", \"world\", \"from\", 'jedha']\n",
    "print(items)"
   ]
  },
  {
   "cell_type": "code",
   "execution_count": 5,
   "metadata": {},
   "outputs": [
    {
     "name": "stdout",
     "output_type": "stream",
     "text": [
      "hello\n",
      "world\n",
      "from\n",
      "jedha\n"
     ]
    }
   ],
   "source": [
    "for item in items: \n",
    "    print (item)"
   ]
  },
  {
   "cell_type": "code",
   "execution_count": 8,
   "metadata": {},
   "outputs": [
    {
     "name": "stdout",
     "output_type": "stream",
     "text": [
      "hello\n",
      "world\n",
      "from\n",
      "jedha\n"
     ]
    }
   ],
   "source": [
    "length = len (items)\n",
    "for i in range  (length):\n",
    "    print(items[i])\n"
   ]
  },
  {
   "cell_type": "code",
   "execution_count": 13,
   "metadata": {},
   "outputs": [
    {
     "name": "stdout",
     "output_type": "stream",
     "text": [
      "(0, 'hello')\n",
      "(1, 'world')\n",
      "(2, 'from')\n",
      "(3, 'jedha')\n"
     ]
    }
   ],
   "source": [
    "for item in enumerate(items):\n",
    "    print(item)"
   ]
  },
  {
   "cell_type": "code",
   "execution_count": 19,
   "metadata": {},
   "outputs": [
    {
     "name": "stdout",
     "output_type": "stream",
     "text": [
      " Item hello has index 0\n",
      " Item world has index 1\n",
      " Item from has index 2\n",
      " Item jedha has index 3\n"
     ]
    }
   ],
   "source": [
    "for i, item in enumerate(items):\n",
    "    print (f\" Item {item} has index {i}\")"
   ]
  }
 ],
 "metadata": {
  "kernelspec": {
   "display_name": "base",
   "language": "python",
   "name": "python3"
  },
  "language_info": {
   "codemirror_mode": {
    "name": "ipython",
    "version": 3
   },
   "file_extension": ".py",
   "mimetype": "text/x-python",
   "name": "python",
   "nbconvert_exporter": "python",
   "pygments_lexer": "ipython3",
   "version": "3.12.7"
  }
 },
 "nbformat": 4,
 "nbformat_minor": 2
}
