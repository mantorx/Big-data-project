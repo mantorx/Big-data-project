{
 "cells": [
  {
   "cell_type": "code",
   "execution_count": 2,
   "metadata": {},
   "outputs": [
    {
     "name": "stdout",
     "output_type": "stream",
     "text": [
      "julia\n",
      "antoine\n",
      "adele\n",
      "adele is at index 2\n"
     ]
    }
   ],
   "source": [
    "names = [\"julia\",\"antoine\",\"adele\", \"alex\",\"thomas\"]\n",
    "\n",
    "for i , name in enumerate(names):\n",
    "    search_names = \"adele\"\n",
    "    print(name)\n",
    "    if name == search_names:\n",
    "        print (f\"{name} is at index {i}\")\n",
    "        break\n"
   ]
  },
  {
   "cell_type": "code",
   "execution_count": 4,
   "metadata": {},
   "outputs": [
    {
     "name": "stdout",
     "output_type": "stream",
     "text": [
      "['julia', 'antoine', 'adele', 'alex', 'thomas']\n"
     ]
    }
   ],
   "source": [
    "names = [\"julia\",\"antoine\",\"adele\", \"alex\",\"thomas\"]\n",
    "\n",
    "for i , name in enumerate(names):\n",
    "    search_names = \"adele\"\n",
    "    if name == search_names:\n",
    "        continue\n",
    "print(names)"
   ]
  }
 ],
 "metadata": {
  "kernelspec": {
   "display_name": "base",
   "language": "python",
   "name": "python3"
  },
  "language_info": {
   "codemirror_mode": {
    "name": "ipython",
    "version": 3
   },
   "file_extension": ".py",
   "mimetype": "text/x-python",
   "name": "python",
   "nbconvert_exporter": "python",
   "pygments_lexer": "ipython3",
   "version": "3.12.7"
  }
 },
 "nbformat": 4,
 "nbformat_minor": 2
}
