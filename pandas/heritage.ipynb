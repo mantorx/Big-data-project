{
 "cells": [
  {
   "cell_type": "code",
   "execution_count": 1,
   "metadata": {},
   "outputs": [
    {
     "data": {
      "text/plain": [
       "<bound method basic_math.add of <__main__.complex_math object at 0x0000026B080F1160>>"
      ]
     },
     "execution_count": 1,
     "metadata": {},
     "output_type": "execute_result"
    }
   ],
   "source": [
    "class basic_math():\n",
    "    def __init__ (self,a,b):\n",
    "        self.a=a\n",
    "        self.b=b\n",
    "    \n",
    "    def add (self):\n",
    "        return self.a + self.b \n",
    "    \n",
    "    def sub (self):\n",
    "        return self.a - self.b \n",
    "    \n",
    "\n",
    "class complex_math(basic_math):\n",
    "    def mult(self):\n",
    "        return  self.a * self.b \n",
    "\n",
    "\n",
    "math = complex_math (10,50)\n",
    "math.add\n"
   ]
  }
 ],
 "metadata": {
  "kernelspec": {
   "display_name": "Python 3",
   "language": "python",
   "name": "python3"
  },
  "language_info": {
   "codemirror_mode": {
    "name": "ipython",
    "version": 3
   },
   "file_extension": ".py",
   "mimetype": "text/x-python",
   "name": "python",
   "nbconvert_exporter": "python",
   "pygments_lexer": "ipython3",
   "version": "3.13.1"
  }
 },
 "nbformat": 4,
 "nbformat_minor": 2
}
