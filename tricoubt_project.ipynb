{
 "cells": [
  {
   "cell_type": "code",
   "execution_count": null,
   "metadata": {},
   "outputs": [
    {
     "name": "stdout",
     "output_type": "stream",
     "text": [
      "[('Julia', '450'), ('samia', '750'), (' arthur', '150')]\n"
     ]
    }
   ],
   "source": [
    "friends= input (\"What are the names of your friends ?\")\n",
    "amounts = input (\"How much each of your friends spent ?\")\n",
    "list_of_friends = friends.split(\",\")\n",
    "list_of_amounts= amounts.split(\",\")\n",
    "\n",
    "if   len(list_of_amounts) == len(list_of_friends):\n",
    "     friends = []\n",
    "     for i, _ in enumerate(list_of_friends):\n",
    "         friends.append((list_of_friends[i],list_of_amounts[i]))\n",
    "     print (friends) \n",
    "\n",
    "elif len(list_of_friends) < len(list_of_amounts):\n",
    "\n",
    "     print ( \"less friends than amounts\")\n",
    "\n",
    "else:\n",
    "     print(\"more friends than amounts\")\n",
    "\n",
    "\n",
    "\n",
    "\n",
    "\n"
   ]
  },
  {
   "cell_type": "code",
   "execution_count": 19,
   "metadata": {},
   "outputs": [
    {
     "name": "stdout",
     "output_type": "stream",
     "text": [
      "enter friends and amount correctly!\n",
      "please enter numbers of the amounts spent\n",
      "[('arthur', 450.0)]\n",
      "[('arthur', 450.0), (' yvan', 780.0)]\n",
      "[('arthur', 450.0), (' yvan', 780.0), ('papa', 950.0)]\n",
      " total amount spent during the trip is: 2180\n"
     ]
    }
   ],
   "source": [
    "friends= input (\"What are the names of your friends ?\")\n",
    "amounts = input (\"How much each of your friends spent ?\")\n",
    "list_of_friends = friends.split(\",\")\n",
    "list_of_amounts= amounts.split(\",\")\n",
    "\n",
    "while True:\n",
    "       try:\n",
    "                for i, amount in enumerate (list_of_amounts):\n",
    "                       list_of_amounts[i] =float(amount)\n",
    "                break\n",
    "       except:\n",
    "        \n",
    "                print(\"please enter numbers of the amounts spent\")\n",
    "                amounts = input (\"How much each of your friends spent ?\")\n",
    "                list_of_amounts= amounts.split(\",\")\n",
    "while  len(list_of_amounts) != len(list_of_friends):\n",
    "        print (\"enter friends and amount correctly!\")\n",
    "        friends= input (\"What are the names of your friends ?\")\n",
    "        amounts = input (\"How much each of your friends spent ?\")\n",
    "        list_of_friends = friends.split(\",\")\n",
    "        list_of_amounts= amounts.split(\",\")\n",
    "\n",
    "        while True:\n",
    "                try:\n",
    "                   for i, amount in enumerate (list_of_amounts):\n",
    "                       list_of_amounts[i] = float(amount)\n",
    "                   break\n",
    "                except:\n",
    "        \n",
    "                        print(\"please enter numbers of the amounts spent\")\n",
    "                        amounts = input (\"How much each of your friends spent ?\")\n",
    "                        list_of_amounts= amounts.split(\",\")\n",
    "else:           \n",
    "        friends = []\n",
    "        total_spent = 0\n",
    "        for friend, amount in zip(list_of_friends, list_of_amounts):\n",
    "                friends.append((friend,amount))\n",
    "                total_spent  += int(amount) \n",
    "                print (friends) \n",
    "print (f\" total amount spent during the trip is: {total_spent}\")\n",
    "\n"
   ]
  }
 ],
 "metadata": {
  "kernelspec": {
   "display_name": "base",
   "language": "python",
   "name": "python3"
  },
  "language_info": {
   "codemirror_mode": {
    "name": "ipython",
    "version": 3
   },
   "file_extension": ".py",
   "mimetype": "text/x-python",
   "name": "python",
   "nbconvert_exporter": "python",
   "pygments_lexer": "ipython3",
   "version": "3.12.7"
  }
 },
 "nbformat": 4,
 "nbformat_minor": 2
}
